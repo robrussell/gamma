{
 "cells": [
  {
   "cell_type": "markdown",
   "metadata": {},
   "source": [
    "1. Create a server\n",
    "2. Create a client\n",
    "3. Have the client send a start command to the server"
   ]
  },
  {
   "cell_type": "code",
   "execution_count": 1,
   "metadata": {},
   "outputs": [],
   "source": [
    "import asyncio\n",
    "import ccline\n",
    "import gin\n",
    "import os\n",
    "\n",
    "from ccline import client\n",
    "from ccline.config import Config, timestamp_stub\n",
    "from ccline.resolver import Resolver"
   ]
  },
  {
   "cell_type": "code",
   "execution_count": 2,
   "metadata": {},
   "outputs": [
    {
     "data": {
      "text/plain": [
       "'/home/rrssll/code/gamma/config'"
      ]
     },
     "execution_count": 2,
     "metadata": {},
     "output_type": "execute_result"
    }
   ],
   "source": [
    "config_base = os.path.normpath(os.path.join(os.getcwd(), \"../config\"))\n",
    "config_base\n"
   ]
  },
  {
   "cell_type": "code",
   "execution_count": 3,
   "metadata": {},
   "outputs": [],
   "source": [
    "def do_config():\n",
    "    gin.clear_config()\n",
    "    gin_configs = [os.path.join(config_base, \"prod.gin\")]\n",
    "    print(\"configs\", gin_configs)\n",
    "    gin.parse_config_files_and_bindings(gin_configs, None, skip_unknown=True)\n"
   ]
  },
  {
   "cell_type": "code",
   "execution_count": 4,
   "metadata": {},
   "outputs": [],
   "source": [
    "async def start():\n",
    "    do_config()\n",
    "    resolver = Resolver()\n",
    "    coordinator = await client.find_coordinator(resolver=resolver)\n",
    "    if coordinator is None:\n",
    "        print(f\"No coordinator found.\")\n",
    "        return\n",
    "    recording_id = f\"r_{timestamp_stub()}\"\n",
    "    await client.start_collecting(coordinator, resolver, recording_id)\n",
    "    print(f\"Started recording {recording_id}\")\n",
    "    return recording_id\n"
   ]
  },
  {
   "cell_type": "code",
   "execution_count": 6,
   "metadata": {},
   "outputs": [
    {
     "name": "stdout",
     "output_type": "stream",
     "text": [
      "configs ['/home/rrssll/code/gamma/config/prod.gin']\n",
      "{'gamma1': '10.20.0.1', 'gamma2': '10.20.0.2', 'gamma3': '10.20.0.3', 'gamma4': '10.20.0.4', 'gamma5': '10.20.0.5', 'gamma6': '10.20.0.6'}\n",
      "{'gamma1': '51151', 'gamma2': '51251', 'gamma3': '51351', 'gamma4': '51451', 'gamma5': '51551', 'gamma6': '51651'}\n",
      "Candidate gamma1 10.20.0.1:51151\n",
      "Sending gamma1 request \n",
      "From gamma1 Received Goose!\n",
      "Candidate gamma2 10.20.0.2:51251\n",
      "Sending gamma2 request \n",
      "From gamma2 Received Duck!\n",
      "Candidate gamma3 10.20.0.3:51351\n",
      "Sending gamma3 request \n",
      "From gamma3 Received Duck!\n",
      "Candidate gamma4 10.20.0.4:51451\n",
      "Sending gamma4 request \n",
      "From gamma4 Received Duck!\n",
      "Candidate gamma5 10.20.0.5:51551\n",
      "Sending gamma5 request \n",
      "From gamma5 Received Duck!\n",
      "Candidate gamma6 10.20.0.6:51651\n",
      "Sending gamma6 request \n",
      "From gamma6 Received Duck!\n",
      "Started recording r_1675235167\n"
     ]
    },
    {
     "data": {
      "text/plain": [
       "'r_1675235167'"
      ]
     },
     "execution_count": 6,
     "metadata": {},
     "output_type": "execute_result"
    }
   ],
   "source": [
    "await start()\n"
   ]
  },
  {
   "cell_type": "code",
   "execution_count": 10,
   "metadata": {},
   "outputs": [],
   "source": [
    "async def stop():\n",
    "    do_config()\n",
    "    resolver = Resolver()\n",
    "    coordinator = await client.find_coordinator(resolver=resolver)\n",
    "    if coordinator is None:\n",
    "        print(f\"No coordinator found.\")\n",
    "        return\n",
    "    await client.stop_collecting(coordinator, resolver)\n"
   ]
  },
  {
   "cell_type": "code",
   "execution_count": 12,
   "metadata": {},
   "outputs": [
    {
     "name": "stdout",
     "output_type": "stream",
     "text": [
      "configs ['/home/rrssll/code/gamma/config/prod.gin']\n",
      "{'gamma1': '10.20.0.1', 'gamma2': '10.20.0.2', 'gamma3': '10.20.0.3', 'gamma4': '10.20.0.4', 'gamma5': '10.20.0.5', 'gamma6': '10.20.0.6'}\n",
      "{'gamma1': '51151', 'gamma2': '51251', 'gamma3': '51351', 'gamma4': '51451', 'gamma5': '51551', 'gamma6': '51651'}\n",
      "Candidate gamma1 10.20.0.1:51151\n",
      "Sending gamma1 request \n",
      "From gamma1 Received Goose!\n",
      "Candidate gamma2 10.20.0.2:51251\n",
      "Sending gamma2 request \n",
      "From gamma2 Received Duck!\n",
      "Candidate gamma3 10.20.0.3:51351\n",
      "Sending gamma3 request \n",
      "From gamma3 Received Duck!\n",
      "Candidate gamma4 10.20.0.4:51451\n",
      "Sending gamma4 request \n",
      "From gamma4 Received Duck!\n",
      "Candidate gamma5 10.20.0.5:51551\n",
      "Sending gamma5 request \n",
      "From gamma5 Received Duck!\n",
      "Candidate gamma6 10.20.0.6:51651\n",
      "Sending gamma6 request \n",
      "From gamma6 Received Duck!\n"
     ]
    }
   ],
   "source": [
    "await stop()\n"
   ]
  },
  {
   "attachments": {},
   "cell_type": "markdown",
   "metadata": {},
   "source": [
    "A quick way to find the most recently created subdirectory and then count how many jpeg files are in that directory."
   ]
  },
  {
   "cell_type": "code",
   "execution_count": null,
   "metadata": {},
   "outputs": [],
   "source": [
    "def count_jpegs():\n",
    "    p = Path(\"/home/pi/data/\")\n",
    "    dirs = [x for x in p.iterdir() if x.is_dir()]\n",
    "    current = max(dirs, key=lambda x: x.stat().st_ctime)\n",
    "    count = len([x for x in current.iterdir() if x.suffix == \".jpg\"])\n"
   ]
  }
 ],
 "metadata": {
  "kernelspec": {
   "display_name": ".venv",
   "language": "python",
   "name": "python3"
  },
  "language_info": {
   "codemirror_mode": {
    "name": "ipython",
    "version": 3
   },
   "file_extension": ".py",
   "mimetype": "text/x-python",
   "name": "python",
   "nbconvert_exporter": "python",
   "pygments_lexer": "ipython3",
   "version": "3.10.6 (main, Nov 14 2022, 16:10:14) [GCC 11.3.0]"
  },
  "orig_nbformat": 4,
  "vscode": {
   "interpreter": {
    "hash": "1a74a6c925892e462ceda77f1eab1b62c16498e364df571d4d01b745b80452c8"
   }
  }
 },
 "nbformat": 4,
 "nbformat_minor": 2
}
